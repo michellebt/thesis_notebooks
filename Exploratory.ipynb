{
 "cells": [
  {
   "cell_type": "markdown",
   "id": "b67f4891-af5b-4f71-a910-587b4fe12401",
   "metadata": {},
   "source": [
    "## Exploratory anaylsis\n",
    "\n",
    "This script imports the original mHealth data and runs exploratory analysis and\n",
    "creates a filtered database fdf where users with < 3 entries are removed\n",
    "\n",
    "Two copies of data are saved from this script:\n",
    "- expd_data.csv: data types are changed, empty columns are removed, but no rows are deleted\n",
    "- filtered_data.csv: rows where userIDs have <3 entries are removed\n"
   ]
  },
  {
   "cell_type": "code",
   "execution_count": 2,
   "id": "77c66a52-2ff9-4877-8fa5-50f21e0a9664",
   "metadata": {},
   "outputs": [],
   "source": [
    "# importing necessary libraries\n",
    "import pandas as pd\n",
    "import numpy as np\n",
    "from datetime import datetime, timedelta\n",
    "import matplotlib.pyplot as plt\n",
    "import seaborn as sns"
   ]
  },
  {
   "cell_type": "code",
   "execution_count": 3,
   "id": "b4c05058-94df-4fb2-beb9-fab48d213311",
   "metadata": {},
   "outputs": [
    {
     "data": {
      "text/plain": [
       "(32052, 55)"
      ]
     },
     "execution_count": 3,
     "metadata": {},
     "output_type": "execute_result"
    }
   ],
   "source": [
    "# Read in original data\n",
    "file_path = 'data/original_data.csv'\n",
    "df = pd.read_csv(file_path)\n",
    "#df.head()\n",
    "df.shape"
   ]
  },
  {
   "cell_type": "code",
   "execution_count": 4,
   "id": "903d1715-01e2-4670-a350-c30b4743e7b7",
   "metadata": {
    "scrolled": true
   },
   "outputs": [
    {
     "data": {
      "text/plain": [
       "Index(['ID', 'Date', 'Is Period', 'Period Intensity', 'Pain Level', 'Headache',\n",
       "       'Insomnia', 'Bloating', 'nausea', 'diarrhea', 'nutrition', 'medication',\n",
       "       'Create Date', 'Updated Date', 'User ID', 'period_id', 'is_ovulated',\n",
       "       'is_conceive', 'acne', 'skin_changes', 'backaches', 'bodyaches',\n",
       "       'constipation', 'stomach_cramps', 'cravings_salty', 'cravings_sweet',\n",
       "       'dizziness', 'indigestion', 'joint_pains', 'leg_pain', 'hip_pain',\n",
       "       'neckaches', 'sciatic_pain', 'tender_breasts', 'temperature',\n",
       "       'tiredness', 'overall_pain', 'fever', 'vomiting', 'short_of_breath',\n",
       "       'coughing', 'pins_and_needles', 'bladder_pain', 'hot_flashes',\n",
       "       'appetite_loss', 'notes', 'weight', 'steps', 'water', 'sleep',\n",
       "       'sleep_minutes', 'other_moods', 'other_lifestyles', 'sex',\n",
       "       'other_negative_mood'],\n",
       "      dtype='object')"
      ]
     },
     "execution_count": 4,
     "metadata": {},
     "output_type": "execute_result"
    }
   ],
   "source": [
    "df.columns\n",
    "#df.dtypes"
   ]
  },
  {
   "cell_type": "code",
   "execution_count": 5,
   "id": "51ce4e80-7eb1-4f7c-ad1d-af51c25ea6b7",
   "metadata": {},
   "outputs": [],
   "source": [
    "df.rename(columns={'Date': 'date'}, inplace=True)\n",
    "df.rename(columns={'Is Period': 'period'}, inplace=True)\n",
    "df.rename(columns={'Period Intensity': 'period_intensity'}, inplace=True)\n",
    "df.rename(columns={'Pain Level': 'pain_level'}, inplace=True)\n",
    "df.rename(columns={'Headache': 'headache'}, inplace=True)\n",
    "df.rename(columns={'Insomnia': 'insomnia'}, inplace=True)\n",
    "df.rename(columns={'Bloating': 'bloating'}, inplace=True)\n",
    "df.rename(columns={'Create Date': 'create_date'}, inplace=True)\n",
    "df.rename(columns={'Updated Date': 'updated_date'}, inplace=True)\n",
    "df.rename(columns={'User ID': 'userID'}, inplace=True)\n",
    "df.rename(columns={'period_id': 'periodID'}, inplace=True)\n",
    "df.rename(columns={'sleep': 'sleep_hours'}, inplace=True)"
   ]
  },
  {
   "cell_type": "code",
   "execution_count": 6,
   "id": "80deb355-97e0-4932-ae74-79c5fd4e7f73",
   "metadata": {},
   "outputs": [],
   "source": [
    "# Convert the datatypes from float to categorical\n",
    "df[\"period\"] = df[\"period\"].astype(\"category\")\n",
    "df[\"period_intensity\"] = df[\"period_intensity\"].astype(\"category\")\n",
    "df[\"pain_level\"] = df[\"pain_level\"].astype(\"category\")\n",
    "df[\"headache\"] = df[\"headache\"].astype(\"category\")\n",
    "df[\"insomnia\"] = df[\"insomnia\"].astype(\"category\")\n",
    "df[\"bloating\"] = df[\"bloating\"].astype(\"category\")\n",
    "df[\"nausea\"] = df[\"nausea\"].astype(\"category\")\n",
    "df[\"diarrhea\"] = df[\"diarrhea\"].astype(\"category\")\n",
    "df[\"is_ovulated\"] = df[\"is_ovulated\"].astype(\"category\")\n",
    "df[\"is_conceive\"] = df[\"is_conceive\"].astype(\"category\")\n",
    "df[\"acne\"] = df[\"acne\"].astype(\"category\")\n",
    "df[\"skin_changes\"] = df[\"skin_changes\"].astype(\"category\")\n",
    "df[\"backaches\"] = df[\"backaches\"].astype(\"category\")\n",
    "df[\"bodyaches\"] = df[\"bodyaches\"].astype(\"category\")\n",
    "df[\"constipation\"] = df[\"constipation\"].astype(\"category\")\n",
    "df[\"stomach_cramps\"] = df[\"stomach_cramps\"].astype(\"category\")\n",
    "df[\"cravings_salty\"] = df[\"cravings_salty\"].astype(\"category\")\n",
    "df[\"cravings_sweet\"] = df[\"cravings_sweet\"].astype(\"category\")\n",
    "df[\"dizziness\"] = df[\"dizziness\"].astype(\"category\")\n",
    "df[\"indigestion\"] = df[\"indigestion\"].astype(\"category\")\n",
    "df[\"joint_pains\"] = df[\"joint_pains\"].astype(\"category\")\n",
    "df[\"leg_pain\"] = df[\"leg_pain\"].astype(\"category\")\n",
    "df[\"hip_pain\"] = df[\"hip_pain\"].astype(\"category\")\n",
    "df[\"neckaches\"] = df[\"neckaches\"].astype(\"category\")\n",
    "df[\"sciatic_pain\"] = df[\"sciatic_pain\"].astype(\"category\")\n",
    "df[\"tender_breasts\"] = df[\"tender_breasts\"].astype(\"category\")\n",
    "df[\"temperature\"] = df[\"temperature\"].astype(\"category\")\n",
    "df[\"tiredness\"] = df[\"tiredness\"].astype(\"category\")\n",
    "df[\"overall_pain\"] = df[\"overall_pain\"].astype(\"category\")\n",
    "df[\"fever\"] = df[\"fever\"].astype(\"category\")\n",
    "df[\"vomiting\"] = df[\"vomiting\"].astype(\"category\")\n",
    "df[\"short_of_breath\"] = df[\"short_of_breath\"].astype(\"category\")\n",
    "df[\"coughing\"] = df[\"coughing\"].astype(\"category\")\n",
    "df[\"pins_and_needles\"] = df[\"pins_and_needles\"].astype(\"category\")\n",
    "df[\"bladder_pain\"] = df[\"bladder_pain\"].astype(\"category\")\n",
    "df[\"hot_flashes\"] = df[\"hot_flashes\"].astype(\"category\")\n",
    "df[\"appetite_loss\"] = df[\"appetite_loss\"].astype(\"category\")\n",
    "df[\"sex\"] = df[\"sex\"].astype(\"category\")\n",
    "df[\"other_negative_mood\"] = df[\"other_negative_mood\"].astype(\"category\")\n",
    "\n",
    "# Convert date column to datetime\n",
    "df['datetime'] = pd.to_datetime(df['date'])\n",
    "# Create a new date column that is date only without time\n",
    "df['date'] = df['datetime'].dt.date\n",
    "# Convert other date columns to datetime\n",
    "df['create_date'] = pd.to_datetime(df['create_date'])\n",
    "df['updated_date'] = pd.to_datetime(df['updated_date'])\n",
    "\n",
    "# Convert IDs to strings\n",
    "df['ID'] =  df['ID'].astype(int)\n",
    "df['userID'] =  df['userID'].astype(int)\n"
   ]
  },
  {
   "cell_type": "code",
   "execution_count": 7,
   "id": "dd665859-16a9-4053-a657-5662cbac137f",
   "metadata": {},
   "outputs": [],
   "source": [
    "# Convert sleep_hour & sleep_minutes into 1 variable\n",
    "df['sleep'] =  (df['sleep_hours']) * 60 + df['sleep_minutes']\n",
    "\n",
    "# Drop sleep_hours and sleep_minutes\n",
    "df = df.drop(columns=['sleep_hours', 'sleep_minutes'])"
   ]
  },
  {
   "cell_type": "code",
   "execution_count": 8,
   "id": "c5558acf-4bfb-4e9e-b1e3-7a4577912248",
   "metadata": {},
   "outputs": [],
   "source": [
    "new_order = ['ID', 'date',  'datetime','create_date', 'updated_date', 'userID', 'periodID', \n",
    "             'period', 'is_ovulated', 'is_conceive', 'sex', \n",
    "             'period_intensity', 'pain_level', 'backaches', 'bodyaches',  'stomach_cramps', \n",
    "             'joint_pains', 'tender_breasts', 'overall_pain', 'headache', \n",
    "             'indigestion', 'bloating', 'constipation', 'diarrhea', 'nausea', 'vomiting', \n",
    "             'appetite_loss', 'cravings_salty', 'cravings_sweet', 'nutrition', \n",
    "             'skin_changes', 'acne', 'tiredness', 'dizziness', 'pins_and_needles',\n",
    "             'temperature',   'fever', 'hot_flashes', 'short_of_breath', 'coughing', \n",
    "             'insomnia', 'sleep', 'weight', 'steps', 'water',\n",
    "             'medication', 'notes', 'other_moods', 'other_lifestyles']\n",
    "\n",
    "# Reorder DataFrame\n",
    "df = df[new_order]"
   ]
  },
  {
   "cell_type": "code",
   "execution_count": 9,
   "id": "7ca63293-83b7-4b62-8146-ef9e3fea8ee7",
   "metadata": {},
   "outputs": [],
   "source": [
    "pd.set_option('display.max_columns', None)\n",
    "#df.head()"
   ]
  },
  {
   "cell_type": "markdown",
   "id": "e0288ee6-08da-4957-8c29-8ab613c8f594",
   "metadata": {},
   "source": [
    "### Data points"
   ]
  },
  {
   "cell_type": "code",
   "execution_count": 11,
   "id": "2aa2ef6a-4e64-4721-8d0c-777f1c0a02b4",
   "metadata": {},
   "outputs": [
    {
     "name": "stdout",
     "output_type": "stream",
     "text": [
      "Number of data points 32052\n",
      "Number of unique DATE points 998\n",
      "Number of user IDs 5659\n",
      "Number of period IDs 4223\n"
     ]
    }
   ],
   "source": [
    "print(\"Number of data points\", len(df['ID'].unique()))\n",
    "print(\"Number of unique DATE points\", len(df['date'].unique()))\n",
    "\n",
    "print(\"Number of user IDs\",len(df['userID'].unique()))\n",
    "print(\"Number of period IDs\",len(df['periodID'].unique()))"
   ]
  },
  {
   "cell_type": "code",
   "execution_count": 12,
   "id": "82267388-51aa-432e-9627-d1570241e93a",
   "metadata": {},
   "outputs": [
    {
     "name": "stdout",
     "output_type": "stream",
     "text": [
      "First date: 1970-01-01\n",
      "Last date: 2023-10-27\n",
      "Duration: 19657 days, 0:00:00\n"
     ]
    }
   ],
   "source": [
    "# Find the first and last dates\n",
    "first_date = df['date'].min()\n",
    "last_date = df['date'].max()\n",
    "\n",
    "# Print timeframe for data collection\n",
    "duration = last_date - first_date\n",
    "print(f\"First date: {first_date}\")\n",
    "print(f\"Last date: {last_date}\")\n",
    "print(f\"Duration: {duration}\")"
   ]
  },
  {
   "cell_type": "code",
   "execution_count": 13,
   "id": "eec2cfef-008a-4878-a4ef-ffaf6c606392",
   "metadata": {},
   "outputs": [
    {
     "name": "stdout",
     "output_type": "stream",
     "text": [
      "          ID        date         create_date\n",
      "1037    1131  2021-08-04 2021-08-04 06:19:26\n",
      "1038    1132  2021-08-04 2021-08-04 06:19:42\n",
      "1039    1133  2021-08-04 2021-08-04 06:21:07\n",
      "1040    1134  2021-08-04 2021-08-04 06:21:28\n",
      "1041    1135  2021-08-04 2021-08-04 06:21:53\n",
      "26445  26542  2023-04-27 2023-04-27 22:34:33\n",
      "31197  31307  2023-09-29 2023-09-29 17:02:27\n",
      "31271  31386  2023-10-02 2023-10-02 19:20:06\n",
      "31291  31406  2023-10-03 2023-10-03 12:36:43\n",
      "31340  31455  2023-10-04 2023-10-04 18:12:23\n",
      "31479  31594  2023-10-09 2023-10-09 08:43:35\n",
      "31560  31675  2023-10-12 2023-10-12 11:23:32\n",
      "31572  31687  2023-10-12 2023-10-12 19:21:57\n",
      "31719  31834  2023-10-16 2023-10-16 22:39:35\n",
      "31754  31869  2023-10-17 2023-10-17 20:52:13\n",
      "31825  31940  2023-10-19 2023-10-19 21:28:02\n",
      "32048  32163  2023-10-27 2023-10-27 08:05:06\n"
     ]
    }
   ],
   "source": [
    "# Correcting dates that were incorrect in the df\n",
    "starting_date = datetime.strptime('2020-01-01', '%Y-%m-%d').date()\n",
    "incorrect_dates = df.loc[df['date'] < starting_date]\n",
    "\n",
    "for ID in incorrect_dates['ID']:  \n",
    "    df.loc[df['ID'] == ID, 'date'] = df.loc[df['ID'] == ID, 'create_date'].dt.date\n",
    "\n",
    "# The following dates were updated\n",
    "print(df.loc[df['ID'].isin(incorrect_dates['ID']), ['ID', 'date', 'create_date']])"
   ]
  },
  {
   "cell_type": "code",
   "execution_count": 14,
   "id": "8f8b88a9-5bc1-45d8-af58-bd952725949f",
   "metadata": {},
   "outputs": [
    {
     "data": {
      "image/png": "[encoded data removed]",
      "text/plain": [
       "<Figure size 1000x400 with 1 Axes>"
      ]
     },
     "metadata": {},
     "output_type": "display_data"
    }
   ],
   "source": [
    "# Create a histogram of the dates\n",
    "plt.figure(figsize=(10, 4))\n",
    "plt.hist(df['date'], bins=30, edgecolor='black')\n",
    "plt.xlabel('Date')\n",
    "plt.ylabel('Count')\n",
    "plt.title('Histogram of Date Counts')\n",
    "plt.xticks(rotation=45)\n",
    "plt.tight_layout()\n",
    "plt.show()"
   ]
  },
  {
   "cell_type": "code",
   "execution_count": 15,
   "id": "e9720f40-c8ae-4343-8ef8-316840c46cf4",
   "metadata": {},
   "outputs": [
    {
     "data": {
      "text/plain": [
       "array([   4,   41,   36,    6,   43,   51,   52,   50,   55,   63,   64,\n",
       "         56,    2,   32,   71,   76,   87,   88,   89,   78,   99,  151,\n",
       "        170,  394,  397, 3891])"
      ]
     },
     "execution_count": 15,
     "metadata": {},
     "output_type": "execute_result"
    }
   ],
   "source": [
    "# App was released in 2021 so all users prior to that were test users\n",
    "# Select all userIDs created prior to 2021\n",
    "\n",
    "release_date = datetime.strptime('2021-05-01', '%Y-%m-%d').date()\n",
    "developers = df.loc[df['date'] < release_date]\n",
    "developers['userID'].unique()"
   ]
  },
  {
   "cell_type": "code",
   "execution_count": 16,
   "id": "3ee6929c-71b7-4db3-bc37-f4b6409cad69",
   "metadata": {},
   "outputs": [
    {
     "name": "stdout",
     "output_type": "stream",
     "text": [
      "int64: ['ID', 'userID']\n",
      "\n",
      "object: ['date', 'nutrition', 'medication', 'notes', 'other_moods', 'other_lifestyles']\n",
      "\n",
      "datetime64[ns]: ['datetime', 'create_date', 'updated_date']\n",
      "\n",
      "float64: ['periodID', 'sleep', 'weight', 'steps', 'water']\n",
      "\n",
      "category: ['period', 'is_ovulated', 'is_conceive', 'sex', 'period_intensity', 'pain_level', 'backaches', 'bodyaches', 'stomach_cramps', 'joint_pains', 'tender_breasts', 'overall_pain', 'headache', 'indigestion', 'bloating', 'constipation', 'diarrhea', 'nausea', 'vomiting', 'appetite_loss', 'cravings_salty', 'cravings_sweet', 'skin_changes', 'acne', 'tiredness', 'dizziness', 'pins_and_needles', 'temperature', 'fever', 'hot_flashes', 'short_of_breath', 'coughing', 'insomnia']\n",
      "\n"
     ]
    }
   ],
   "source": [
    "# Get the data types of each column & group columns by type\n",
    "columns_by_type = {}\n",
    "\n",
    "for column, dtype in df.dtypes.items():\n",
    "    dtype_name = dtype.name\n",
    "    if dtype_name not in columns_by_type:\n",
    "        columns_by_type[dtype_name] = []\n",
    "    columns_by_type[dtype_name].append(column)\n",
    "\n",
    "for dtype, columns in columns_by_type.items():\n",
    "    print(f\"{dtype}: {columns}\\n\")"
   ]
  },
  {
   "cell_type": "code",
   "execution_count": 17,
   "id": "8a02b936-7d97-4742-a869-965fcd566b61",
   "metadata": {},
   "outputs": [
    {
     "name": "stdout",
     "output_type": "stream",
     "text": [
      "'period': [1, 0]\n",
      "Categories (2, int64): [0, 1]\n",
      "'is_ovulated': [0.0, 1.0, NaN]\n",
      "Categories (2, float64): [0.0, 1.0]\n",
      "'is_conceive': [0.0, 1.0, NaN]\n",
      "Categories (2, float64): [0.0, 1.0]\n",
      "'sex': [0, 1]\n",
      "Categories (2, int64): [0, 1]\n",
      "'period_intensity': [3.0, 0.0, 1.0, NaN, 2.0, 4.0, 5.0]\n",
      "Categories (6, float64): [0.0, 1.0, 2.0, 3.0, 4.0, 5.0]\n",
      "'pain_level': [NaN, 7.0, 3.0, 2.0, 10.0, ..., 5.0, 0.0, 9.0, 1.0, 8.0]\n",
      "Length: 12\n",
      "Categories (11, float64): [0.0, 1.0, 2.0, 3.0, ..., 7.0, 8.0, 9.0, 10.0]\n",
      "'backaches': [NaN, 1.0, 0.0, 2.0]\n",
      "Categories (3, float64): [0.0, 1.0, 2.0]\n",
      "'bodyaches': [NaN, 1.0, 0.0, 2.0]\n",
      "Categories (3, float64): [0.0, 1.0, 2.0]\n",
      "'stomach_cramps': [NaN, 1.0, 2.0, 0.0]\n",
      "Categories (3, float64): [0.0, 1.0, 2.0]\n",
      "'joint_pains': [NaN, 0.0, 2.0, 1.0]\n",
      "Categories (3, float64): [0.0, 1.0, 2.0]\n",
      "'tender_breasts': [NaN, 1.0, 2.0, 0.0]\n",
      "Categories (3, float64): [0.0, 1.0, 2.0]\n",
      "'overall_pain': [NaN, 1.0, 2.0, 0.0]\n",
      "Categories (3, float64): [0.0, 1.0, 2.0]\n",
      "'headache': [NaN, 1.0, 0.0, 2.0]\n",
      "Categories (3, float64): [0.0, 1.0, 2.0]\n",
      "'indigestion': [NaN, 1.0, 2.0, 0.0]\n",
      "Categories (3, float64): [0.0, 1.0, 2.0]\n",
      "'bloating': [NaN, 0.0, 1.0, 2.0]\n",
      "Categories (3, float64): [0.0, 1.0, 2.0]\n",
      "'constipation': [NaN, 1.0, 2.0, 0.0]\n",
      "Categories (3, float64): [0.0, 1.0, 2.0]\n",
      "'diarrhea': [NaN, 0.0, 1.0, 2.0]\n",
      "Categories (3, float64): [0.0, 1.0, 2.0]\n",
      "'nausea': [NaN, 2.0, 0.0, 1.0]\n",
      "Categories (3, float64): [0.0, 1.0, 2.0]\n",
      "'vomiting': [NaN, 1.0, 2.0, 0.0]\n",
      "Categories (3, float64): [0.0, 1.0, 2.0]\n",
      "'appetite_loss': [NaN, 1.0, 2.0, 0.0]\n",
      "Categories (3, float64): [0.0, 1.0, 2.0]\n",
      "'cravings_salty': [NaN, 1.0, 2.0, 0.0]\n",
      "Categories (3, float64): [0.0, 1.0, 2.0]\n",
      "'cravings_sweet': [NaN, 1.0, 2.0, 0.0]\n",
      "Categories (3, float64): [0.0, 1.0, 2.0]\n",
      "'skin_changes': [NaN, 0.0, 1.0, 2.0]\n",
      "Categories (3, float64): [0.0, 1.0, 2.0]\n",
      "'acne': [NaN, 1.0, 2.0, 0.0]\n",
      "Categories (3, float64): [0.0, 1.0, 2.0]\n",
      "'tiredness': [NaN, 1.0, 2.0, 0.0]\n",
      "Categories (3, float64): [0.0, 1.0, 2.0]\n",
      "'dizziness': [NaN, 2.0, 1.0, 0.0]\n",
      "Categories (3, float64): [0.0, 1.0, 2.0]\n",
      "'pins_and_needles': [NaN, 1.0, 2.0, 0.0]\n",
      "Categories (3, float64): [0.0, 1.0, 2.0]\n",
      "'temperature': [NaN, 1.0, 2.0, 0.0]\n",
      "Categories (3, float64): [0.0, 1.0, 2.0]\n",
      "'fever': [NaN, 1.0, 2.0, 0.0]\n",
      "Categories (3, float64): [0.0, 1.0, 2.0]\n",
      "'hot_flashes': [NaN, 1.0, 2.0, 0.0]\n",
      "Categories (3, float64): [0.0, 1.0, 2.0]\n",
      "'short_of_breath': [NaN, 1.0, 2.0, 0.0]\n",
      "Categories (3, float64): [0.0, 1.0, 2.0]\n",
      "'coughing': [NaN, 1.0, 2.0, 0.0]\n",
      "Categories (3, float64): [0.0, 1.0, 2.0]\n",
      "'insomnia': [NaN, 0.0, 2.0, 1.0]\n",
      "Categories (3, float64): [0.0, 1.0, 2.0]\n"
     ]
    }
   ],
   "source": [
    "# Get all unique values for categorical variables\n",
    "unique_values = {col: df[col].unique() for col in df.columns if df[col].dtype.name == 'category'}\n",
    "\n",
    "# Print unique values for each category type column\n",
    "for column, values in unique_values.items():\n",
    "    print(f\"'{column}': {values}\")"
   ]
  },
  {
   "cell_type": "markdown",
   "id": "e98609c7-6e22-4a38-9f78-d04884f2bfab",
   "metadata": {},
   "source": [
    "### Missing data"
   ]
  },
  {
   "cell_type": "code",
   "execution_count": 19,
   "id": "73f86edb-e5d8-401c-809d-f585eb439754",
   "metadata": {},
   "outputs": [
    {
     "name": "stdout",
     "output_type": "stream",
     "text": [
      "Columns with empty value_counts(): []\n"
     ]
    },
    {
     "data": {
      "text/plain": [
       "(32052, 49)"
      ]
     },
     "execution_count": 19,
     "metadata": {},
     "output_type": "execute_result"
    }
   ],
   "source": [
    "# List of columns where value_counts() is empty\n",
    "empty_columns = [col for col in df.columns if df[col].dropna().empty]\n",
    "print(\"Columns with empty value_counts():\", empty_columns)\n",
    "\n",
    "# Drop the empty columns\n",
    "df = df.drop(columns=empty_columns)\n",
    "df.shape"
   ]
  },
  {
   "cell_type": "code",
   "execution_count": 20,
   "id": "b13ea79a-abd8-4cfc-bc3d-617334af4660",
   "metadata": {},
   "outputs": [
    {
     "data": {
      "text/plain": [
       "ID                      0\n",
       "date                    0\n",
       "datetime                0\n",
       "create_date             0\n",
       "updated_date            0\n",
       "userID                  0\n",
       "periodID            21530\n",
       "period                  0\n",
       "is_ovulated           983\n",
       "is_conceive           983\n",
       "sex                     0\n",
       "period_intensity    21520\n",
       "pain_level          12107\n",
       "backaches           18553\n",
       "bodyaches           20924\n",
       "stomach_cramps      19497\n",
       "joint_pains         24986\n",
       "tender_breasts      25368\n",
       "overall_pain        29366\n",
       "headache            20671\n",
       "indigestion         27402\n",
       "bloating            16633\n",
       "constipation        24230\n",
       "diarrhea            26399\n",
       "nausea              22487\n",
       "vomiting            29631\n",
       "appetite_loss       26287\n",
       "cravings_salty      27193\n",
       "cravings_sweet      25872\n",
       "nutrition           27289\n",
       "skin_changes        26066\n",
       "acne                23593\n",
       "tiredness           17271\n",
       "dizziness           24991\n",
       "pins_and_needles    28585\n",
       "temperature         31314\n",
       "fever               29360\n",
       "hot_flashes         26933\n",
       "short_of_breath     27698\n",
       "coughing            28557\n",
       "insomnia            25088\n",
       "sleep               29845\n",
       "weight              28012\n",
       "steps               29506\n",
       "water               29173\n",
       "medication          25636\n",
       "notes               26574\n",
       "other_moods         31283\n",
       "other_lifestyles    30048\n",
       "dtype: int64"
      ]
     },
     "execution_count": 20,
     "metadata": {},
     "output_type": "execute_result"
    }
   ],
   "source": [
    "df.isnull().sum()"
   ]
  },
  {
   "cell_type": "markdown",
   "id": "1a7b114a-3b0c-411c-8f3b-bb2c520c36ee",
   "metadata": {},
   "source": [
    "# Grouping by User Analysis"
   ]
  },
  {
   "cell_type": "code",
   "execution_count": 22,
   "id": "9ac20dff-dda8-44c5-a28e-da262f2326fd",
   "metadata": {
    "scrolled": true
   },
   "outputs": [
    {
     "data": {
      "text/html": [
       "<div>\n",
       "<style scoped>\n",
       "    .dataframe tbody tr th:only-of-type {\n",
       "        vertical-align: middle;\n",
       "    }\n",
       "\n",
       "    .dataframe tbody tr th {\n",
       "        vertical-align: top;\n",
       "    }\n",
       "\n",
       "    .dataframe thead th {\n",
       "        text-align: right;\n",
       "    }\n",
       "</style>\n",
       "<table border=\"1\" class=\"dataframe\">\n",
       "  <thead>\n",
       "    <tr style=\"text-align: right;\">\n",
       "      <th></th>\n",
       "      <th>userID</th>\n",
       "      <th>count</th>\n",
       "    </tr>\n",
       "  </thead>\n",
       "  <tbody>\n",
       "    <tr>\n",
       "      <th>0</th>\n",
       "      <td>1815</td>\n",
       "      <td>502</td>\n",
       "    </tr>\n",
       "    <tr>\n",
       "      <th>1</th>\n",
       "      <td>4394</td>\n",
       "      <td>299</td>\n",
       "    </tr>\n",
       "    <tr>\n",
       "      <th>2</th>\n",
       "      <td>567</td>\n",
       "      <td>257</td>\n",
       "    </tr>\n",
       "    <tr>\n",
       "      <th>3</th>\n",
       "      <td>113</td>\n",
       "      <td>249</td>\n",
       "    </tr>\n",
       "    <tr>\n",
       "      <th>4</th>\n",
       "      <td>318</td>\n",
       "      <td>236</td>\n",
       "    </tr>\n",
       "  </tbody>\n",
       "</table>\n",
       "</div>"
      ],
      "text/plain": [
       "   userID  count\n",
       "0    1815    502\n",
       "1    4394    299\n",
       "2     567    257\n",
       "3     113    249\n",
       "4     318    236"
      ]
     },
     "execution_count": 22,
     "metadata": {},
     "output_type": "execute_result"
    }
   ],
   "source": [
    "# Aggregate data to get the number of entries per user\n",
    "user_entry_cnt = df['userID'].value_counts()\n",
    "user_entry_cnt = user_entry_cnt.reset_index()\n",
    "user_entry_cnt = user_entry_cnt.sort_values(by='count', ascending=False)\n",
    "user_entry_cnt.head()"
   ]
  },
  {
   "cell_type": "code",
   "execution_count": 23,
   "id": "194c5d6f-00fe-49d9-a119-70ffb18f8b55",
   "metadata": {},
   "outputs": [
    {
     "name": "stdout",
     "output_type": "stream",
     "text": [
      "Number of entries 32052\n",
      "Number of users 5659\n",
      "Avg number of entries per user 5.66\n"
     ]
    }
   ],
   "source": [
    "print(\"Number of entries\", user_entry_cnt['count'].sum())\n",
    "print(\"Number of users\", len(df['userID'].unique()))\n",
    "\n",
    "# Average number of entries per user\n",
    "print(\"Avg number of entries per user\", round(user_entry_cnt['count'].mean(), 2))\n",
    "\n",
    "# Number of entries per user\n",
    "user_entry_cnt = df.groupby('userID')['userID'].value_counts()\n",
    "user_entry_cnt = user_entry_cnt.reset_index()"
   ]
  },
  {
   "cell_type": "code",
   "execution_count": 24,
   "id": "43c46020-49e1-475a-be2f-4dd16f374147",
   "metadata": {},
   "outputs": [
    {
     "name": "stdout",
     "output_type": "stream",
     "text": [
      "Number of userIDs that only make 1 entry: 2690\n"
     ]
    }
   ],
   "source": [
    "# UserID that only make 1 entry\n",
    "single_entries = user_entry_cnt[user_entry_cnt['count'] == 1]['userID']\n",
    "print(\"Number of userIDs that only make 1 entry:\", len(single_entries))\n"
   ]
  },
  {
   "cell_type": "code",
   "execution_count": 25,
   "id": "8c15c43d-bb35-452e-b62d-3662d45adc48",
   "metadata": {},
   "outputs": [
    {
     "data": {
      "image/png": "[encoded data removed]",
      "text/plain": [
       "<Figure size 640x480 with 1 Axes>"
      ]
     },
     "metadata": {},
     "output_type": "display_data"
    }
   ],
   "source": [
    "# Visualize user entry distribution\n",
    "sns.histplot(user_entry_cnt['count'], kde=True)\n",
    "plt.xlabel('Number of Entries per User')\n",
    "plt.ylabel('Frequency')\n",
    "plt.title('Distribution of Number of Entries per User')\n",
    "plt.show()"
   ]
  },
  {
   "cell_type": "markdown",
   "id": "1f201021-271a-49ed-b67e-15bab5668a12",
   "metadata": {},
   "source": [
    "# Filtering data\n",
    "## Remove users with few or outlier number of entries"
   ]
  },
  {
   "cell_type": "code",
   "execution_count": 27,
   "id": "1ec56ce9-1f03-4d40-a446-20d9ec978c41",
   "metadata": {},
   "outputs": [
    {
     "name": "stdout",
     "output_type": "stream",
     "text": [
      "Number of userIDs to remove: 3719\n"
     ]
    },
    {
     "data": {
      "text/plain": [
       "9         52\n",
       "10        55\n",
       "12        63\n",
       "14        71\n",
       "15        76\n",
       "        ... \n",
       "5654    8603\n",
       "5655    8606\n",
       "5656    8607\n",
       "5657    8608\n",
       "5658    8609\n",
       "Name: userID, Length: 3719, dtype: int64"
      ]
     },
     "execution_count": 27,
     "metadata": {},
     "output_type": "execute_result"
    }
   ],
   "source": [
    "# UserID that have only 1-2 entries \n",
    "remove_list = user_entry_cnt[(user_entry_cnt['count'] < 3) | (user_entry_cnt['count'] > 500)]['userID']\n",
    "\n",
    "print(\"Number of userIDs to remove:\", len(remove_list))\n",
    "remove_list"
   ]
  },
  {
   "cell_type": "code",
   "execution_count": 28,
   "id": "9a7b8ba1-4120-40fb-92f8-2b2512f47027",
   "metadata": {},
   "outputs": [
    {
     "name": "stdout",
     "output_type": "stream",
     "text": [
      "3719\n"
     ]
    }
   ],
   "source": [
    "# ids_to_remove to list object\n",
    "remove_list = remove_list.tolist()\n",
    "print(len(remove_list))"
   ]
  },
  {
   "cell_type": "code",
   "execution_count": 29,
   "id": "98f7ee24-64c5-45db-b6fb-4c44415cb5c1",
   "metadata": {},
   "outputs": [
    {
     "data": {
      "text/plain": [
       "(26516, 49)"
      ]
     },
     "execution_count": 29,
     "metadata": {},
     "output_type": "execute_result"
    }
   ],
   "source": [
    "# Create a filtered df with some users removed\n",
    "fdf = df[~df['userID'].isin(remove_list)]\n",
    "\n",
    "# Remove developerd & test users with IDs 64, 32\n",
    "dev_users = developers['userID'].unique().tolist()\n",
    "test_users = [64, 32, 36]\n",
    "fdf = fdf[~fdf['userID'].isin(dev_users)]\n",
    "fdf = fdf[~fdf['userID'].isin(test_users)]\n",
    "\n",
    "fdf.shape"
   ]
  },
  {
   "cell_type": "code",
   "execution_count": 30,
   "id": "901a7e45-9e2a-4b29-92cf-23608c7bebbc",
   "metadata": {},
   "outputs": [
    {
     "data": {
      "text/plain": [
       "(26516, 47)"
      ]
     },
     "execution_count": 30,
     "metadata": {},
     "output_type": "execute_result"
    }
   ],
   "source": [
    "# There are no positive entries for 'is_ovulated' or 'is_conceive' in the filtered db, so these columns can be dropped\n",
    "#fdf['is_ovulated'].value_counts()\n",
    "#fdf['is_conceive'].value_counts()\n",
    "\n",
    "fdf = fdf.drop(columns=['is_ovulated',  'is_conceive'])\n",
    "fdf.shape"
   ]
  },
  {
   "cell_type": "code",
   "execution_count": 31,
   "id": "04c882ce-58e5-4d83-be56-08d8d0483da5",
   "metadata": {},
   "outputs": [
    {
     "data": {
      "image/png": "[encoded data removed]",
      "text/plain": [
       "<Figure size 800x100 with 1 Axes>"
      ]
     },
     "metadata": {},
     "output_type": "display_data"
    },
    {
     "data": {
      "image/png": "[encoded data removed]",
      "text/plain": [
       "<Figure size 800x100 with 1 Axes>"
      ]
     },
     "metadata": {},
     "output_type": "display_data"
    },
    {
     "data": {
      "image/png": "[encoded data removed]",
      "text/plain": [
       "<Figure size 800x100 with 1 Axes>"
      ]
     },
     "metadata": {},
     "output_type": "display_data"
    },
    {
     "data": {
      "image/png": "[encoded data removed]",
      "text/plain": [
       "<Figure size 800x100 with 1 Axes>"
      ]
     },
     "metadata": {},
     "output_type": "display_data"
    }
   ],
   "source": [
    "# Check for outliers for 'weight', 'sleep', 'steps', 'water'\n",
    "\n",
    "plt.figure(figsize=(8, 1))\n",
    "sns.stripplot(x='weight', data=fdf)\n",
    "plt.title('Jitter plot for weight')\n",
    "plt.xlabel('weight')\n",
    "plt.show()\n",
    "\n",
    "plt.figure(figsize=(8, 1))\n",
    "sns.stripplot(x='sleep', data=fdf)\n",
    "plt.title('Jitter plot for sleep')\n",
    "plt.xlabel('sleep')\n",
    "plt.show()\n",
    "\n",
    "plt.figure(figsize=(8, 1))\n",
    "sns.stripplot(x='steps', data=fdf)\n",
    "plt.title('Jitter plot for steps')\n",
    "plt.xlabel('Steps')\n",
    "plt.show()\n",
    "\n",
    "plt.figure(figsize=(8, 1))\n",
    "sns.stripplot(x='water', data=fdf)\n",
    "plt.title('Jitter plot for water')\n",
    "plt.xlabel('water')\n",
    "plt.show()"
   ]
  },
  {
   "cell_type": "code",
   "execution_count": 32,
   "id": "ab2e1273-9318-4223-aa98-d6d7ee932e3f",
   "metadata": {},
   "outputs": [
    {
     "data": {
      "text/plain": [
       "(26141, 47)"
      ]
     },
     "execution_count": 32,
     "metadata": {},
     "output_type": "execute_result"
    }
   ],
   "source": [
    "# Remove outliers for 'weight', 'sleep', 'steps', 'water'\n",
    "\n",
    "# weight less than 25 kg or above 225 kg\n",
    "fdf = fdf[((fdf['weight'] > 9) & (fdf['weight'] < 225)) | (fdf['weight'].isnull())]\n",
    "\n",
    "# sleep above 1000 minutes\n",
    "fdf = fdf[(fdf['sleep'] < 800) | (fdf['sleep'].isnull())]\n",
    "\n",
    "# steps less than 10 and above 30,000\n",
    "fdf = fdf[((fdf['steps'] > 9) & (fdf['steps'] < 30000)) | (fdf['steps'].isnull())]\n",
    "\n",
    "# water intake above 12 litres\n",
    "fdf = fdf[(fdf['water'] < 12) | (fdf['water'].isnull())]\n",
    "\n",
    "fdf.shape"
   ]
  },
  {
   "cell_type": "code",
   "execution_count": 33,
   "id": "7fb5cdb0-03df-4749-ac3b-aef64328a933",
   "metadata": {},
   "outputs": [
    {
     "data": {
      "image/png": "[encoded data removed]",
      "text/plain": [
       "<Figure size 800x100 with 1 Axes>"
      ]
     },
     "metadata": {},
     "output_type": "display_data"
    },
    {
     "data": {
      "image/png": "[encoded data removed]",
      "text/plain": [
       "<Figure size 800x100 with 1 Axes>"
      ]
     },
     "metadata": {},
     "output_type": "display_data"
    },
    {
     "data": {
      "image/png": "[encoded data removed]",
      "text/plain": [
       "<Figure size 800x100 with 1 Axes>"
      ]
     },
     "metadata": {},
     "output_type": "display_data"
    },
    {
     "data": {
      "image/png": "[encoded data removed]",
      "text/plain": [
       "<Figure size 800x100 with 1 Axes>"
      ]
     },
     "metadata": {},
     "output_type": "display_data"
    }
   ],
   "source": [
    "# After outliers removed for 'weight', 'sleep', 'steps', 'water'\n",
    "\n",
    "plt.figure(figsize=(8, 1))\n",
    "sns.stripplot(x='weight', data=fdf)\n",
    "plt.title('Jitter plot for weight')\n",
    "plt.xlabel('weight')\n",
    "plt.show()\n",
    "\n",
    "plt.figure(figsize=(8, 1))\n",
    "sns.stripplot(x='sleep', data=fdf)\n",
    "plt.title('Jitter plot for sleep')\n",
    "plt.xlabel('sleep')\n",
    "plt.show()\n",
    "\n",
    "plt.figure(figsize=(8, 1))\n",
    "sns.stripplot(x='steps', data=fdf)\n",
    "plt.title('Jitter plot for steps')\n",
    "plt.xlabel('Steps')\n",
    "plt.show()\n",
    "\n",
    "plt.figure(figsize=(8, 1))\n",
    "sns.stripplot(x='water', data=fdf)\n",
    "plt.title('Jitter plot for water')\n",
    "plt.xlabel('water')\n",
    "plt.show()"
   ]
  },
  {
   "cell_type": "code",
   "execution_count": 34,
   "id": "bab224f0-1e62-45a8-b082-722bdee7dcee",
   "metadata": {},
   "outputs": [
    {
     "name": "stdout",
     "output_type": "stream",
     "text": [
      "Number of data points 26141\n",
      "Number of unique DATE points 910\n",
      "Number of user IDs 1918\n",
      "Number of period IDs 2961\n"
     ]
    }
   ],
   "source": [
    "# Filtered data stats\n",
    "print(\"Number of data points\", len(fdf['ID'].unique()))\n",
    "print(\"Number of unique DATE points\", len(fdf['date'].unique()))\n",
    "\n",
    "print(\"Number of user IDs\",len(fdf['userID'].unique()))\n",
    "print(\"Number of period IDs\",len(fdf['periodID'].unique()))"
   ]
  },
  {
   "cell_type": "code",
   "execution_count": 35,
   "id": "e8925214-fe5d-4f16-aebd-fe5e423d7aaf",
   "metadata": {},
   "outputs": [
    {
     "data": {
      "image/png": "[encoded data removed]",
      "text/plain": [
       "<Figure size 640x480 with 1 Axes>"
      ]
     },
     "metadata": {},
     "output_type": "display_data"
    }
   ],
   "source": [
    "# Visualize filtered user entry distribution\n",
    "final_entry_cnt = fdf['userID'].value_counts()\n",
    "final_entry_cnt = final_entry_cnt.reset_index()\n",
    "\n",
    "sns.histplot(final_entry_cnt['count'], kde=True)\n",
    "plt.xlabel('Number of Entries per User')\n",
    "plt.ylabel('Frequency')\n",
    "plt.title('Distribution of Number of Entries per User')\n",
    "plt.savefig('fig/dist_entries.png', dpi=300)  \n",
    "plt.show()"
   ]
  },
  {
   "cell_type": "markdown",
   "id": "379cc10c-73b7-4b80-80cb-74ffafe6eb18",
   "metadata": {},
   "source": [
    "# Save databases to disk"
   ]
  },
  {
   "cell_type": "code",
   "execution_count": 37,
   "id": "2b627ab8-48ab-45d3-aae9-fed1fcfb8dc7",
   "metadata": {},
   "outputs": [],
   "source": [
    "# Save copy of current panda df to file - data types are changed, empty columns are removed, but no rows are deleted\n",
    "df.to_csv('data/expd_data.csv', index=False)\n",
    "\n",
    "# Save copy of filtered df to file - rows where userIDs are removed\n",
    "fdf.to_csv('data/filtered_data.csv', index=False)"
   ]
  },
  {
   "cell_type": "code",
   "execution_count": 38,
   "id": "b9b1f957-0215-4f14-ac32-70b8f843d59f",
   "metadata": {},
   "outputs": [
    {
     "name": "stdout",
     "output_type": "stream",
     "text": [
      "User count: 1918\n",
      "Users that record weight at least once: 758\n",
      "Users that never record a weight: 1160\n",
      "Mean weight 84.6\n",
      "Median weight 69.0\n"
     ]
    }
   ],
   "source": [
    "# Weight demographics in filtered database\n",
    "all_users = fdf['userID'].unique()\n",
    "\n",
    "# userID where some rows have a weight recorded\n",
    "weight_users = fdf[fdf['weight'].notnull()]['userID'].unique()\n",
    "\n",
    "no_weight = set(all_users) - set(weight_users)\n",
    "\n",
    "print(\"User count:\", len(all_users))\n",
    "print(\"Users that record weight at least once:\", len(weight_users))\n",
    "print(\"Users that never record a weight:\", len(no_weight))\n",
    "\n",
    "print(\"Mean weight\", round(fdf['weight'].mean(), 1))\n",
    "print(\"Median weight\", fdf['weight'].median())"
   ]
  },
  {
   "cell_type": "markdown",
   "id": "684a96b5-16cf-4519-abf5-3cffbe4951d4",
   "metadata": {},
   "source": [
    "### Group by user_ID and period_IDs"
   ]
  },
  {
   "cell_type": "code",
   "execution_count": 40,
   "id": "bd5b466e-f230-4316-842d-e923163adca8",
   "metadata": {},
   "outputs": [
    {
     "name": "stdout",
     "output_type": "stream",
     "text": [
      "Total number of periodIDs 2961\n"
     ]
    },
    {
     "data": {
      "text/html": [
       "<div>\n",
       "<style scoped>\n",
       "    .dataframe tbody tr th:only-of-type {\n",
       "        vertical-align: middle;\n",
       "    }\n",
       "\n",
       "    .dataframe tbody tr th {\n",
       "        vertical-align: top;\n",
       "    }\n",
       "\n",
       "    .dataframe thead th {\n",
       "        text-align: right;\n",
       "    }\n",
       "</style>\n",
       "<table border=\"1\" class=\"dataframe\">\n",
       "  <thead>\n",
       "    <tr style=\"text-align: right;\">\n",
       "      <th></th>\n",
       "      <th>userID</th>\n",
       "      <th>periodID</th>\n",
       "      <th>count</th>\n",
       "    </tr>\n",
       "  </thead>\n",
       "  <tbody>\n",
       "    <tr>\n",
       "      <th>0</th>\n",
       "      <td>92</td>\n",
       "      <td>[75.0, 97.0, 119.0, 132.0, 173.0, 181.0, 205.0...</td>\n",
       "      <td>8</td>\n",
       "    </tr>\n",
       "    <tr>\n",
       "      <th>1</th>\n",
       "      <td>93</td>\n",
       "      <td>[92.0, 133.0, 3329.0, 3652.0]</td>\n",
       "      <td>4</td>\n",
       "    </tr>\n",
       "    <tr>\n",
       "      <th>2</th>\n",
       "      <td>95</td>\n",
       "      <td>[504.0, 666.0, 707.0, 834.0, 2262.0]</td>\n",
       "      <td>5</td>\n",
       "    </tr>\n",
       "    <tr>\n",
       "      <th>3</th>\n",
       "      <td>96</td>\n",
       "      <td>[66.0]</td>\n",
       "      <td>1</td>\n",
       "    </tr>\n",
       "    <tr>\n",
       "      <th>4</th>\n",
       "      <td>103</td>\n",
       "      <td>[79.0, 102.0]</td>\n",
       "      <td>2</td>\n",
       "    </tr>\n",
       "    <tr>\n",
       "      <th>...</th>\n",
       "      <td>...</td>\n",
       "      <td>...</td>\n",
       "      <td>...</td>\n",
       "    </tr>\n",
       "    <tr>\n",
       "      <th>1907</th>\n",
       "      <td>8455</td>\n",
       "      <td>[4211.0]</td>\n",
       "      <td>1</td>\n",
       "    </tr>\n",
       "    <tr>\n",
       "      <th>1909</th>\n",
       "      <td>8490</td>\n",
       "      <td>[4228.0]</td>\n",
       "      <td>1</td>\n",
       "    </tr>\n",
       "    <tr>\n",
       "      <th>1910</th>\n",
       "      <td>8508</td>\n",
       "      <td>[4235.0]</td>\n",
       "      <td>1</td>\n",
       "    </tr>\n",
       "    <tr>\n",
       "      <th>1912</th>\n",
       "      <td>8524</td>\n",
       "      <td>[4247.0]</td>\n",
       "      <td>1</td>\n",
       "    </tr>\n",
       "    <tr>\n",
       "      <th>1914</th>\n",
       "      <td>8544</td>\n",
       "      <td>[4257.0]</td>\n",
       "      <td>1</td>\n",
       "    </tr>\n",
       "  </tbody>\n",
       "</table>\n",
       "<p>1281 rows × 3 columns</p>\n",
       "</div>"
      ],
      "text/plain": [
       "      userID                                           periodID  count\n",
       "0         92  [75.0, 97.0, 119.0, 132.0, 173.0, 181.0, 205.0...      8\n",
       "1         93                      [92.0, 133.0, 3329.0, 3652.0]      4\n",
       "2         95               [504.0, 666.0, 707.0, 834.0, 2262.0]      5\n",
       "3         96                                             [66.0]      1\n",
       "4        103                                      [79.0, 102.0]      2\n",
       "...      ...                                                ...    ...\n",
       "1907    8455                                           [4211.0]      1\n",
       "1909    8490                                           [4228.0]      1\n",
       "1910    8508                                           [4235.0]      1\n",
       "1912    8524                                           [4247.0]      1\n",
       "1914    8544                                           [4257.0]      1\n",
       "\n",
       "[1281 rows x 3 columns]"
      ]
     },
     "execution_count": 40,
     "metadata": {},
     "output_type": "execute_result"
    }
   ],
   "source": [
    "# Number of periods recorded \n",
    "\n",
    "print(\"Total number of periodIDs\", len(fdf['periodID'].unique()))\n",
    "\n",
    "periods = fdf.groupby('userID')['periodID'].unique()\n",
    "periods = periods.reset_index()\n",
    "\n",
    "# Remove nan values\n",
    "periods['periodID'] = periods['periodID'].apply(lambda x: [value for value in x if not pd.isna(value)])\n",
    "# Remove empty\n",
    "periods = periods[periods['periodID'].apply(lambda x: len(x) > 0)]\n",
    "# count periodID list\n",
    "periods['count'] = periods['periodID'].apply(len)\n",
    "periods"
   ]
  },
  {
   "cell_type": "code",
   "execution_count": 41,
   "id": "166dc783-69f4-4da0-8136-6625fc5835a2",
   "metadata": {},
   "outputs": [
    {
     "name": "stdout",
     "output_type": "stream",
     "text": [
      "User count: 1918\n",
      "Users that record at least 1 period: 1276\n",
      "Users that never record a period: 642\n"
     ]
    }
   ],
   "source": [
    "# Users that never record having a period\n",
    "all_users = fdf['userID'].unique()\n",
    "\n",
    "# userID where some rows with period is 1\n",
    "period_users = fdf[fdf['period'] == 1]['userID'].unique()\n",
    "\n",
    "# Other userIDs\n",
    "no_period_users = set(all_users) - set(period_users)\n",
    "\n",
    "print(\"User count:\", len(all_users))\n",
    "print(\"Users that record at least 1 period:\", len(period_users))\n",
    "print(\"Users that never record a period:\", len(no_period_users))"
   ]
  },
  {
   "cell_type": "code",
   "execution_count": 42,
   "id": "23358d4b-7a40-4f7c-b117-fb1ca3b298d9",
   "metadata": {},
   "outputs": [
    {
     "data": {
      "image/png": "[encoded data removed]",
      "text/plain": [
       "<Figure size 1200x500 with 1 Axes>"
      ]
     },
     "metadata": {},
     "output_type": "display_data"
    }
   ],
   "source": [
    "# Frequency distribution\n",
    "plt.figure(figsize=(12, 5))\n",
    "sns.histplot(data=periods, x='count', bins=range(1, max(periods['count']) + 2), kde=True, edgecolor='black')\n",
    "plt.xlabel('Number of periods/user')\n",
    "plt.ylabel('Frequency')\n",
    "plt.title('Frequency of Recorded Periods per User')\n",
    "plt.xticks(range(1, max(periods['count']) + 1))\n",
    "plt.show()"
   ]
  },
  {
   "cell_type": "markdown",
   "id": "54ec68ff-0e88-42f6-8bcf-e5f2aa2bd47b",
   "metadata": {},
   "source": [
    "# Data point counts in filtered dataset"
   ]
  },
  {
   "cell_type": "code",
   "execution_count": 44,
   "id": "c4b5686b-7260-4a2d-bc8c-de29e10366d1",
   "metadata": {},
   "outputs": [
    {
     "name": "stdout",
     "output_type": "stream",
     "text": [
      "Number of data points 26141\n",
      "Number of user IDs 1918\n"
     ]
    }
   ],
   "source": [
    "print(\"Number of data points\", len(fdf['ID'].unique()))\n",
    "print(\"Number of user IDs\",len(fdf['userID'].unique()))"
   ]
  },
  {
   "cell_type": "code",
   "execution_count": 45,
   "id": "89cba2ef-b5c2-4fbb-b844-a105e7e0b64f",
   "metadata": {},
   "outputs": [
    {
     "data": {
      "text/html": [
       "<div>\n",
       "<style scoped>\n",
       "    .dataframe tbody tr th:only-of-type {\n",
       "        vertical-align: middle;\n",
       "    }\n",
       "\n",
       "    .dataframe tbody tr th {\n",
       "        vertical-align: top;\n",
       "    }\n",
       "\n",
       "    .dataframe thead th {\n",
       "        text-align: right;\n",
       "    }\n",
       "</style>\n",
       "<table border=\"1\" class=\"dataframe\">\n",
       "  <thead>\n",
       "    <tr style=\"text-align: right;\">\n",
       "      <th></th>\n",
       "      <th>variable</th>\n",
       "      <th>value_count</th>\n",
       "    </tr>\n",
       "  </thead>\n",
       "  <tbody>\n",
       "    <tr>\n",
       "      <th>6</th>\n",
       "      <td>periodID</td>\n",
       "      <td>8921</td>\n",
       "    </tr>\n",
       "    <tr>\n",
       "      <th>7</th>\n",
       "      <td>period</td>\n",
       "      <td>26141</td>\n",
       "    </tr>\n",
       "    <tr>\n",
       "      <th>8</th>\n",
       "      <td>sex</td>\n",
       "      <td>26141</td>\n",
       "    </tr>\n",
       "    <tr>\n",
       "      <th>9</th>\n",
       "      <td>period_intensity</td>\n",
       "      <td>8927</td>\n",
       "    </tr>\n",
       "    <tr>\n",
       "      <th>10</th>\n",
       "      <td>pain_level</td>\n",
       "      <td>16057</td>\n",
       "    </tr>\n",
       "    <tr>\n",
       "      <th>11</th>\n",
       "      <td>backaches</td>\n",
       "      <td>10119</td>\n",
       "    </tr>\n",
       "    <tr>\n",
       "      <th>12</th>\n",
       "      <td>bodyaches</td>\n",
       "      <td>8236</td>\n",
       "    </tr>\n",
       "    <tr>\n",
       "      <th>13</th>\n",
       "      <td>stomach_cramps</td>\n",
       "      <td>9592</td>\n",
       "    </tr>\n",
       "    <tr>\n",
       "      <th>14</th>\n",
       "      <td>joint_pains</td>\n",
       "      <td>5150</td>\n",
       "    </tr>\n",
       "    <tr>\n",
       "      <th>15</th>\n",
       "      <td>tender_breasts</td>\n",
       "      <td>4913</td>\n",
       "    </tr>\n",
       "    <tr>\n",
       "      <th>16</th>\n",
       "      <td>overall_pain</td>\n",
       "      <td>2124</td>\n",
       "    </tr>\n",
       "    <tr>\n",
       "      <th>17</th>\n",
       "      <td>headache</td>\n",
       "      <td>8675</td>\n",
       "    </tr>\n",
       "    <tr>\n",
       "      <th>18</th>\n",
       "      <td>indigestion</td>\n",
       "      <td>3197</td>\n",
       "    </tr>\n",
       "    <tr>\n",
       "      <th>19</th>\n",
       "      <td>bloating</td>\n",
       "      <td>11913</td>\n",
       "    </tr>\n",
       "    <tr>\n",
       "      <th>20</th>\n",
       "      <td>constipation</td>\n",
       "      <td>5713</td>\n",
       "    </tr>\n",
       "    <tr>\n",
       "      <th>21</th>\n",
       "      <td>diarrhea</td>\n",
       "      <td>3955</td>\n",
       "    </tr>\n",
       "    <tr>\n",
       "      <th>22</th>\n",
       "      <td>nausea</td>\n",
       "      <td>7242</td>\n",
       "    </tr>\n",
       "    <tr>\n",
       "      <th>23</th>\n",
       "      <td>vomiting</td>\n",
       "      <td>1414</td>\n",
       "    </tr>\n",
       "    <tr>\n",
       "      <th>24</th>\n",
       "      <td>appetite_loss</td>\n",
       "      <td>4122</td>\n",
       "    </tr>\n",
       "    <tr>\n",
       "      <th>25</th>\n",
       "      <td>cravings_salty</td>\n",
       "      <td>3231</td>\n",
       "    </tr>\n",
       "    <tr>\n",
       "      <th>26</th>\n",
       "      <td>cravings_sweet</td>\n",
       "      <td>4236</td>\n",
       "    </tr>\n",
       "    <tr>\n",
       "      <th>27</th>\n",
       "      <td>nutrition</td>\n",
       "      <td>3270</td>\n",
       "    </tr>\n",
       "    <tr>\n",
       "      <th>28</th>\n",
       "      <td>skin_changes</td>\n",
       "      <td>4212</td>\n",
       "    </tr>\n",
       "    <tr>\n",
       "      <th>29</th>\n",
       "      <td>acne</td>\n",
       "      <td>5874</td>\n",
       "    </tr>\n",
       "    <tr>\n",
       "      <th>30</th>\n",
       "      <td>tiredness</td>\n",
       "      <td>11211</td>\n",
       "    </tr>\n",
       "    <tr>\n",
       "      <th>31</th>\n",
       "      <td>dizziness</td>\n",
       "      <td>5166</td>\n",
       "    </tr>\n",
       "    <tr>\n",
       "      <th>32</th>\n",
       "      <td>pins_and_needles</td>\n",
       "      <td>2232</td>\n",
       "    </tr>\n",
       "    <tr>\n",
       "      <th>33</th>\n",
       "      <td>temperature</td>\n",
       "      <td>516</td>\n",
       "    </tr>\n",
       "    <tr>\n",
       "      <th>34</th>\n",
       "      <td>fever</td>\n",
       "      <td>1631</td>\n",
       "    </tr>\n",
       "    <tr>\n",
       "      <th>35</th>\n",
       "      <td>hot_flashes</td>\n",
       "      <td>3576</td>\n",
       "    </tr>\n",
       "    <tr>\n",
       "      <th>36</th>\n",
       "      <td>short_of_breath</td>\n",
       "      <td>3054</td>\n",
       "    </tr>\n",
       "    <tr>\n",
       "      <th>37</th>\n",
       "      <td>coughing</td>\n",
       "      <td>2326</td>\n",
       "    </tr>\n",
       "    <tr>\n",
       "      <th>38</th>\n",
       "      <td>insomnia</td>\n",
       "      <td>4657</td>\n",
       "    </tr>\n",
       "    <tr>\n",
       "      <th>39</th>\n",
       "      <td>sleep</td>\n",
       "      <td>1527</td>\n",
       "    </tr>\n",
       "    <tr>\n",
       "      <th>40</th>\n",
       "      <td>weight</td>\n",
       "      <td>2076</td>\n",
       "    </tr>\n",
       "    <tr>\n",
       "      <th>41</th>\n",
       "      <td>steps</td>\n",
       "      <td>1609</td>\n",
       "    </tr>\n",
       "    <tr>\n",
       "      <th>42</th>\n",
       "      <td>water</td>\n",
       "      <td>1683</td>\n",
       "    </tr>\n",
       "    <tr>\n",
       "      <th>43</th>\n",
       "      <td>medication</td>\n",
       "      <td>4805</td>\n",
       "    </tr>\n",
       "    <tr>\n",
       "      <th>44</th>\n",
       "      <td>notes</td>\n",
       "      <td>4878</td>\n",
       "    </tr>\n",
       "    <tr>\n",
       "      <th>45</th>\n",
       "      <td>other_moods</td>\n",
       "      <td>622</td>\n",
       "    </tr>\n",
       "    <tr>\n",
       "      <th>46</th>\n",
       "      <td>other_lifestyles</td>\n",
       "      <td>1597</td>\n",
       "    </tr>\n",
       "  </tbody>\n",
       "</table>\n",
       "</div>"
      ],
      "text/plain": [
       "            variable  value_count\n",
       "6           periodID         8921\n",
       "7             period        26141\n",
       "8                sex        26141\n",
       "9   period_intensity         8927\n",
       "10        pain_level        16057\n",
       "11         backaches        10119\n",
       "12         bodyaches         8236\n",
       "13    stomach_cramps         9592\n",
       "14       joint_pains         5150\n",
       "15    tender_breasts         4913\n",
       "16      overall_pain         2124\n",
       "17          headache         8675\n",
       "18       indigestion         3197\n",
       "19          bloating        11913\n",
       "20      constipation         5713\n",
       "21          diarrhea         3955\n",
       "22            nausea         7242\n",
       "23          vomiting         1414\n",
       "24     appetite_loss         4122\n",
       "25    cravings_salty         3231\n",
       "26    cravings_sweet         4236\n",
       "27         nutrition         3270\n",
       "28      skin_changes         4212\n",
       "29              acne         5874\n",
       "30         tiredness        11211\n",
       "31         dizziness         5166\n",
       "32  pins_and_needles         2232\n",
       "33       temperature          516\n",
       "34             fever         1631\n",
       "35       hot_flashes         3576\n",
       "36   short_of_breath         3054\n",
       "37          coughing         2326\n",
       "38          insomnia         4657\n",
       "39             sleep         1527\n",
       "40            weight         2076\n",
       "41             steps         1609\n",
       "42             water         1683\n",
       "43        medication         4805\n",
       "44             notes         4878\n",
       "45       other_moods          622\n",
       "46  other_lifestyles         1597"
      ]
     },
     "execution_count": 45,
     "metadata": {},
     "output_type": "execute_result"
    }
   ],
   "source": [
    "datapt_count = fdf.isna().sum()\n",
    "datapt_count = datapt_count.reset_index()\n",
    "\n",
    "datapt_count.rename(columns={'index': 'variable'}, inplace=True)\n",
    "datapt_count.rename(columns={0: 'missing_count'}, inplace=True)\n",
    "datapt_count['value_count'] = len(fdf['ID'].unique()) - datapt_count['missing_count']\n",
    "datapt_count[['variable', 'value_count']][6:]"
   ]
  },
  {
   "cell_type": "code",
   "execution_count": 46,
   "id": "533ecb43-8512-441c-8e17-fd96f1f9c112",
   "metadata": {},
   "outputs": [
    {
     "data": {
      "image/png": "[encoded data removed]",
      "text/plain": [
       "<Figure size 1000x600 with 1 Axes>"
      ]
     },
     "metadata": {},
     "output_type": "display_data"
    }
   ],
   "source": [
    "# Histogram of the dates\n",
    "plt.figure(figsize=(10, 6))\n",
    "plt.hist(fdf['date'], bins=30, edgecolor='black')\n",
    "plt.xlabel('Date')\n",
    "plt.ylabel('Count')\n",
    "plt.title('Histogram of Date Counts')\n",
    "plt.xticks(rotation=45)\n",
    "plt.tight_layout()\n",
    "\n",
    "plt.show()"
   ]
  },
  {
   "cell_type": "code",
   "execution_count": null,
   "id": "d32c12f0-0220-4f52-be9b-ba00253985ca",
   "metadata": {},
   "outputs": [],
   "source": []
  }
 ],
 "metadata": {
  "kernelspec": {
   "display_name": "Python (base)",
   "language": "python",
   "name": "base"
  },
  "language_info": {
   "codemirror_mode": {
    "name": "ipython",
    "version": 3
   },
   "file_extension": ".py",
   "mimetype": "text/x-python",
   "name": "python",
   "nbconvert_exporter": "python",
   "pygments_lexer": "ipython3",
   "version": "3.12.4"
  }
 },
 "nbformat": 4,
 "nbformat_minor": 5
}
